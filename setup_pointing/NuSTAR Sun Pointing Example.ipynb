{
 "cells": [
  {
   "cell_type": "markdown",
   "metadata": {},
   "source": [
    "## Overview\n",
    "\n",
    "This scripts gives an example of how to generate pointing positons for *NuSTAR* (in RA and dec) based on pointing position offsets on the solar disk."
   ]
  },
  {
   "cell_type": "markdown",
   "metadata": {},
   "source": [
    "### Libraries we'll use\n",
    "\n",
    "Here we require numpy, astropy, and sunpy.\n",
    "\n",
    "sunpy is mostly used for date convenience and to get the Sun's north pole angle with respect to celestial north."
   ]
  },
  {
   "cell_type": "code",
   "execution_count": 1,
   "metadata": {
    "collapsed": false
   },
   "outputs": [],
   "source": [
    "from sunpy import sun\n",
    "import sunpy.time\n",
    "\n",
    "import astropy.time\n",
    "from astropy import units as u\n",
    "from astropy.coordinates import SkyCoord\n",
    "from astropy.coordinates import get_sun\n",
    "\n",
    "import numpy as np"
   ]
  },
  {
   "cell_type": "markdown",
   "metadata": {},
   "source": [
    "### Sky Position Code\n",
    "The code below defines the function to convert a given offset on the solar disk into an RA/Dec pointing position.\n",
    "\n",
    "The code assumes that time is a datetime object or a string that looks like '2016-07-03T10:33:10' and that offset is a two element numpy vector like [1000, 150] where the values are the X and Y offsets from the center of the Sun.\n",
    "\n",
    "Here we also assume that offset has a unit assocaited with it (i.e. u.arcsec) so that we don't have to worry about hardcording any unit conversions. Just in case we ever want to do arcminute offsets or the like."
   ]
  },
  {
   "cell_type": "code",
   "execution_count": 2,
   "metadata": {
    "collapsed": true
   },
   "outputs": [],
   "source": [
    "def get_sky_position(time, offset):\n",
    "    \"Code for converting solar offsets to pointing position.\"\n",
    "\n",
    "    \n",
    "\n",
    "    # Convert the date into something that's usable by astropy.\n",
    "\n",
    "\n",
    "    start_date = sunpy.time.parse_time(time)\n",
    "    astro_time = astropy.time.Time(start_date)\n",
    "    \n",
    "    # Use astropy get_sun for Sun sky position.\n",
    "    # sunpy has a similar function, but it may be giving a different\n",
    "    # epoch for the RA and dec. We need them in J2000 RA and dec.\n",
    "    \n",
    "    astro_sun_pos = get_sun(astro_time)\n",
    "\n",
    "    # Get the solar north pole angle. cgs --> radians\n",
    "    sun_np=sun.solar_north(t=time).cgs\n",
    "\n",
    "    # Get the center of the Sun, and assign it degrees.\n",
    "    # Doing it this was is necessary to do the vector math below.\n",
    "    sun_pos = np.array([astro_sun_pos.ra.deg, astro_sun_pos.dec.deg])* u.deg\n",
    "\n",
    "    # Rotation matrix for a counter-clockwise rotation since we're going\n",
    "    # back to celestial north from solar north\n",
    "    rotMatrix = np.array([[np.cos(sun_np), np.sin(sun_np)], \n",
    "                         [-np.sin(sun_np),  np.cos(sun_np)]])\n",
    "    \n",
    "    # Project the offset onto the Sun\n",
    "    delta_offset = np.dot(offset, rotMatrix)\n",
    "\n",
    "    # Scale to RA based on the declination.\n",
    "    delta_offset = delta_offset * np.array([1. / np.cos(sun_pos[1]), 1.])\n",
    "\n",
    "    # Account for the fact that +Ra == East and we have defined +X = West\n",
    "    delta_offset = delta_offset * [-1.0, 1.0]\n",
    "\n",
    "    # Apply the offset and return the sky position.\n",
    "    sky_position = sun_pos + delta_offset\n",
    "\n",
    "    return sky_position;"
   ]
  },
  {
   "cell_type": "markdown",
   "metadata": {},
   "source": [
    "### NuSTAR Roll angle code\n",
    "\n",
    "This code just computes the \"Sky\" PA angle required for NuSTAR to have a given roll.\n",
    "\n",
    "Some common roll angles you'll want to use:\n",
    "\n",
    "\n",
    "**Square** DET0 at NE / SE / SW / NW of FoV, angle = 0 / 90 / 180 / 270 degrees.\n",
    "\n",
    "**Diamond** (Det 0 at the soouth): angle = 45\n",
    "\n",
    "\n",
    "\n"
   ]
  },
  {
   "cell_type": "code",
   "execution_count": 3,
   "metadata": {
    "collapsed": false
   },
   "outputs": [],
   "source": [
    "def get_nustar_roll(time, angle):\n",
    "    \"Code to get NuSTAR roll for given FoV.\"\n",
    "        \n",
    "    start_date = sunpy.time.parse_time(time)\n",
    "    astro_time = astropy.time.Time(start_date)\n",
    "    # Get the solar north pole angle. cgs --> radians\n",
    "    sun_np=sun.solar_north(t=time).deg * u.deg\n",
    "        \n",
    "    nustar_roll = np.mod( sun_np + angle, 360*u.deg)\n",
    "\n",
    "    return nustar_roll;"
   ]
  },
  {
   "cell_type": "markdown",
   "metadata": {},
   "source": [
    "### Usage\n",
    "The time input should be a date string or a datetime object."
   ]
  },
  {
   "cell_type": "code",
   "execution_count": 4,
   "metadata": {
    "collapsed": false
   },
   "outputs": [
    {
     "name": "stdout",
     "output_type": "stream",
     "text": [
      "Aim time:  2016-07-26T19:53:15.00\n",
      "Coordinates:  [ 126.04053869   19.33666449] deg\n",
      "NuSTAR Sky PA:  98.8658844320891 deg\n"
     ]
    }
   ],
   "source": [
    "aim_time='2016-07-26T19:53:15.00'\n",
    "offset = np.array([1000, 150]) * u.arcsec\n",
    "sky_pos = get_sky_position(aim_time, offset)\n",
    "angle=90 * u.deg\n",
    "nustar_roll = get_nustar_roll(aim_time, angle)\n",
    "\n",
    "\n",
    "\n",
    "print(\"Aim time: \", aim_time)\n",
    "print(\"Coordinates: \",sky_pos)\n",
    "print(\"NuSTAR Sky PA: \",nustar_roll)\n",
    "\n",
    "\n"
   ]
  },
  {
   "cell_type": "markdown",
   "metadata": {},
   "source": [
    "### Slightly more advanced usage:\n",
    "\n",
    "Here if you want to specify the dwell start/stop times and compute the aim time automatically."
   ]
  },
  {
   "cell_type": "code",
   "execution_count": 5,
   "metadata": {
    "collapsed": false
   },
   "outputs": [
    {
     "name": "stdout",
     "output_type": "stream",
     "text": [
      "Aim time:  2016-07-26 19:53:15\n",
      "Coordinates [ 126.04053869   19.33666449] deg\n",
      "NuSTAR Sky PA:  98.8658844320891 deg\n"
     ]
    }
   ],
   "source": [
    "dwell_start='2016-07-26T19:22:10'\n",
    "dwell_end='2016-07-26T20:24:20'\n",
    "\n",
    "start_date = sunpy.time.parse_time(dwell_start)\n",
    "end_date = sunpy.time.parse_time(dwell_end)\n",
    "\n",
    "dt = end_date-start_date\n",
    "aim_time = start_date + dt*0.5\n",
    "\n",
    "\n",
    "offset = np.array([1000, 150]) * u.arcsec\n",
    "sky_pos = get_sky_position(aim_time, offset)\n",
    "angle=90 * u.deg\n",
    "nustar_roll = get_nustar_roll(aim_time, angle)\n",
    "\n",
    "\n",
    "print(\"Aim time: \", aim_time)\n",
    "print(\"Coordinates\", sky_pos)\n",
    "print(\"NuSTAR Sky PA: \",nustar_roll)\n"
   ]
  },
  {
   "cell_type": "code",
   "execution_count": null,
   "metadata": {
    "collapsed": true
   },
   "outputs": [],
   "source": []
  }
 ],
 "metadata": {
  "anaconda-cloud": {},
  "kernelspec": {
   "display_name": "Python [Root]",
   "language": "python",
   "name": "Python [Root]"
  },
  "language_info": {
   "codemirror_mode": {
    "name": "ipython",
    "version": 3
   },
   "file_extension": ".py",
   "mimetype": "text/x-python",
   "name": "python",
   "nbconvert_exporter": "python",
   "pygments_lexer": "ipython3",
   "version": "3.5.2"
  }
 },
 "nbformat": 4,
 "nbformat_minor": 0
}
